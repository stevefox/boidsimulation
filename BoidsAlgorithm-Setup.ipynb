{
 "metadata": {
  "name": "BoidsAlgorithm-Setup"
 },
 "nbformat": 3,
 "nbformat_minor": 0,
 "worksheets": [
  {
   "cells": [
    {
     "cell_type": "markdown",
     "metadata": {},
     "source": [
      "# SYSM 6302 Final Project: The Boids Algorithm\n",
      "## Stephen Fox \n",
      "## [stephen.fox@utdallas.edu](<stephen.fox@utdallas.edu>)\n",
      "\n",
      "The *Boids Algorithm* is a mathematical model of flocking behavior. Animals such as fish, birds and (as in Disney's *The Lion King* \n",
      "\n",
      "Craig W. Reynolds published a paper in July of 1987 titled \"Flocks, Herds, and Schools: A Distributed Behavioral Model\". [1] The intent of the paper was to share a revolutionary approach to modeling flocks, herds and schools for computer graphics. The computational complexity along with the difficult nature of specifying exact individual paths in large \"flocks\" (of people, animals, etc...) served as an impetus to explore a more feasible means of simulating the type of behavior exhibited by groups of objects. The boids algorithm is one solution that we have seen before \n",
      "## Model of the Boid\n",
      "_Boids_ (definition): A _boid_ is a bird-like object or _bird-oid_, whose emergent behavior displays the characteristics of natural flocks, herds and schools of animals. Simulating these behavioral characteristics is based on three local navigation rules for each _bird_ in the flock:\n",
      "\n",
      "![boid](files/boid-red.png \"A 2D, directional boid\")\n",
      "\n",
      "1. Collision Avoidance\n",
      "1. Velocity Matching\n",
      "1. Flock Centering"
     ]
    },
    {
     "cell_type": "code",
     "collapsed": false,
     "input": [
      "# PyGame Skeleton Code based on Tutorial located at: http://www.pygame.org/docs/tut/intro/intro.html\n",
      "import sys, pygame\n",
      "from pygame.locals import *\n",
      "from math import ceil\n",
      "from random import randint\n",
      "# For linear algebra\n",
      "import numpy as np\n",
      "import pygame \n",
      "\n",
      "#Model the Boid as an object, as Reynolds suggests in the paper \n",
      "#(OOP was not as popular back in 1987; this was originally done in LISP)\n",
      "class Boid:\n",
      "    #: Initialize the boid at some position x,y\n",
      "    def __init__(self, x, y, image_surface):\n",
      "        # keep track in floating point coordinates\n",
      "        #: position\n",
      "        self.pos = np.array([x, y])\n",
      "        #: velocity\n",
      "        # [speed, direction]\n",
      "        self.vel = np.array([0.0, 0.0])\n",
      "        #: acceleration (this is what the rules affect)\n",
      "        self.accel = np.array([0.0, randint(0,180) ])\n",
      "        #: costume\n",
      "        # image & rendering surfaces\n",
      "        self.image_surface = image_surface\n",
      "        self.surf = pygame.Surface((50,50),flags=pygame.SRCALPHA)\n",
      "        self.surf.set_alpha(0)\n",
      "        self.pos_rect = pygame.Rect((25,25,26,26))\n",
      "        self.surf.blit(image_surface, self.pos_rect)#, special_flags=pygame.BLEND_RGBA_ADD)\n",
      "    \n",
      "    def draw(self):\n",
      "        render_surf = pygame.transform.rotozoom(self.surf, self.accel[1], 1.0)\n",
      "        screen.blit(render_surf, pygame.Rect((self.pos[0]-25,self.pos[1]-25, self.pos[0]+25, self.pos[1]+25)))\n",
      "    \n",
      "    def update(self, neighbors):\n",
      "        # apply all rules\n",
      "        a1 = self.__avoid(neighbors)\n",
      "        a2 = self.__velocity(neighbors)\n",
      "        a3 = self.__centering(neighbors)\n",
      "    #: Rule 1: Collision Avoidance\n",
      "    def __avoid(self, neighbors):\n",
      "        pass\n",
      "    #: Rule 2: Velocity Matching\n",
      "    def __velocity(self, neighbors):\n",
      "        pass\n",
      "    #: Rule 3: Flock Centering\n",
      "    def __centering(self, neighbors):\n",
      "        pass\n",
      "\n",
      "class Flock:\n",
      "    #: Initializes a flock of @param count boids. Note that birds of a feather\n",
      "    #: flock together, but that a property of boids is that they can split up\n",
      "    def __init__(self, count):\n",
      "        image_surface = pygame.image.load(\"boid-red.png\").convert_alpha()\n",
      "        self.boid_list = [ Boid(randint(1,1024/50-1)*50, randint(1,768/50-1)*50, image_surface) for i in range(count) ]\n",
      "    #: Render the flock\n",
      "    def draw(self):\n",
      "        for i in self.boid_list:\n",
      "            i.draw()\n",
      "    def update(self):\n",
      "        pass"
     ],
     "language": "python",
     "metadata": {},
     "outputs": [],
     "prompt_number": 1
    },
    {
     "cell_type": "code",
     "collapsed": true,
     "input": [
      "pygame.init()\n",
      "fpsClock = pygame.time.Clock()\n",
      "\n",
      "width = 1024\n",
      "height = 768\n",
      "size = (width, height)\n",
      "speed = [1, 1]\n",
      "\n",
      "black = 1.0, 1.0, 1.0\n",
      "white = 0.0, 0.0, 0.0\n",
      "screen = pygame.display.set_mode(size)\n",
      "pygame.display.set_caption(\"Interactive Boid's Algorithm Simulation\")\n",
      "\n",
      "f = Flock(50)\n",
      "f.draw()\n",
      "\n",
      "boid = pygame.image.load(\"boid-red.png\")\n",
      "boid = boid.convert_alpha()\n",
      "boidrect = boid.get_rect()\n",
      "boidrect = boidrect.move(size[0]/2, size[1]/2)\n",
      "rot = 2.0\n",
      "#: Infinite game loop\n",
      "b = Boid(size[0]/3, size[1]/2, boid)\n",
      "b.draw()\n",
      "pygame.display.flip()\n"
     ],
     "language": "python",
     "metadata": {},
     "outputs": [],
     "prompt_number": 2
    },
    {
     "cell_type": "code",
     "collapsed": false,
     "input": [
      "while True:\n",
      "    fpsClock.tick(60)\n",
      "    for event in pygame.event.get():\n",
      "        if event.type == pygame.QUIT:\n",
      "            sys.exit()\n",
      "        if event.type == pygame.KEYDOWN:\n",
      "            if event.key == K_ESCAPE:\n",
      "                pygame.event.post(pygame.event.Event(QUIT))\n",
      "\n",
      "    screen.fill(black)\n",
      "    \n",
      "    pygame.display.flip()"
     ],
     "language": "python",
     "metadata": {},
     "outputs": [],
     "prompt_number": "*"
    },
    {
     "cell_type": "markdown",
     "metadata": {},
     "source": [
      "## References\n",
      "\n",
      "[1]() Craig W. Reynolds. Flocks, Herds and Schools: A Distributed Behavioral Model. In _ACM SIGGRAPH Computer Graphics_, Volume 21, pp. 25-34. ACM, 1987. \n",
      "\n",
      "**Description:** The original boids algorithm paper\n",
      "\n",
      "[2](http://www.pygame.org/docs/tut/intro/intro.html) Pete Shinners. Python Pygame Introduction. http://www.pygame.org/docs/tut/intro/intro.html. Accessed 30 November 2013.\n",
      "\n",
      "**Description:** Tutorial for using PyGame where I took the basic structure of the code\n",
      "\n",
      "[3](http://www.kfish.org/boids/pseudocode.html) Conrad Parker. Boids Pseudocode. http://www.kfish.org/boids/pseudocode.html, 1995. Last Modified 06 September 2007. Accessed 01 December 2013.\n",
      "\n",
      "**Description:** Pseudocode for the boids algorithm, with some additional notes and analysis.\n",
      "\n"
     ]
    },
    {
     "cell_type": "code",
     "collapsed": false,
     "input": [
      "%tb"
     ],
     "language": "python",
     "metadata": {},
     "outputs": [
      {
       "output_type": "stream",
       "stream": "stderr",
       "text": [
        "No traceback available to show.\n"
       ]
      }
     ],
     "prompt_number": 3
    }
   ],
   "metadata": {}
  }
 ]
}